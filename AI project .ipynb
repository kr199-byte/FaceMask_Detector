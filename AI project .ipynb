{
 "cells": [
  {
   "cell_type": "code",
   "execution_count": 1,
   "id": "social-father",
   "metadata": {},
   "outputs": [],
   "source": [
    "\n",
    "#importing dependencies\n",
    "import numpy as np\n",
    "from matplotlib import pyplot as plt\n",
    "import tensorflow\n",
    "from tensorflow import keras\n",
    "from keras.models import Sequential\n",
    "from keras.layers import Conv2D,MaxPooling2D,Flatten,Dense\n",
    "from keras.preprocessing.image import ImageDataGenerator"
   ]
  },
  {
   "cell_type": "code",
   "execution_count": 2,
   "id": "distinct-sleeve",
   "metadata": {},
   "outputs": [],
   "source": [
    "#Creating sequential cnn model for training\n",
    "model = Sequential()\n",
    "model.add(Conv2D(32, (3, 3), activation='relu', input_shape=(150, 150, 3)))\n",
    "model.add(MaxPooling2D())\n",
    "model.add(Conv2D(32, (3, 3), activation='relu'))\n",
    "model.add(MaxPooling2D())\n",
    "model.add(Conv2D(32, (3, 3), activation='relu'))\n",
    "model.add(MaxPooling2D())\n",
    "model.add(Flatten())\n",
    "model.add(Dense(100, activation='relu'))\n",
    "model.add(Dense(1, activation='sigmoid'))\n",
    "\n"
   ]
  },
  {
   "cell_type": "code",
   "execution_count": 4,
   "id": "median-mapping",
   "metadata": {},
   "outputs": [
    {
     "name": "stdout",
     "output_type": "stream",
     "text": [
      "Model: \"sequential\"\n",
      "_________________________________________________________________\n",
      "Layer (type)                 Output Shape              Param #   \n",
      "=================================================================\n",
      "conv2d (Conv2D)              (None, 148, 148, 32)      896       \n",
      "_________________________________________________________________\n",
      "max_pooling2d (MaxPooling2D) (None, 74, 74, 32)        0         \n",
      "_________________________________________________________________\n",
      "conv2d_1 (Conv2D)            (None, 72, 72, 32)        9248      \n",
      "_________________________________________________________________\n",
      "max_pooling2d_1 (MaxPooling2 (None, 36, 36, 32)        0         \n",
      "_________________________________________________________________\n",
      "conv2d_2 (Conv2D)            (None, 34, 34, 32)        9248      \n",
      "_________________________________________________________________\n",
      "max_pooling2d_2 (MaxPooling2 (None, 17, 17, 32)        0         \n",
      "_________________________________________________________________\n",
      "flatten (Flatten)            (None, 9248)              0         \n",
      "_________________________________________________________________\n",
      "dense (Dense)                (None, 100)               924900    \n",
      "_________________________________________________________________\n",
      "dense_1 (Dense)              (None, 1)                 101       \n",
      "=================================================================\n",
      "Total params: 944,393\n",
      "Trainable params: 944,393\n",
      "Non-trainable params: 0\n",
      "_________________________________________________________________\n"
     ]
    }
   ],
   "source": [
    "#Visualizing model\n",
    "from keras.utils.vis_utils import plot_model\n",
    "plot_model(model, to_file='model_plot.png', show_shapes=True, show_layer_names=True)\n",
    "model.summary()"
   ]
  },
  {
   "cell_type": "code",
   "execution_count": 6,
   "id": "republican-comment",
   "metadata": {},
   "outputs": [],
   "source": [
    "#Pre compilation before training model.\n",
    "model.compile(optimizer='adam', loss='binary_crossentropy', metrics=['accuracy'])"
   ]
  },
  {
   "cell_type": "code",
   "execution_count": 7,
   "id": "severe-monday",
   "metadata": {},
   "outputs": [
    {
     "name": "stdout",
     "output_type": "stream",
     "text": [
      "Found 400 images belonging to 2 classes.\n",
      "Found 100 images belonging to 2 classes.\n",
      "WARNING:tensorflow:From <ipython-input-7-f67fce6d1ff4>:22: Model.fit_generator (from tensorflow.python.keras.engine.training) is deprecated and will be removed in a future version.\n",
      "Instructions for updating:\n",
      "Please use Model.fit, which supports generators.\n",
      "Epoch 1/10\n",
      "25/25 [==============================] - 11s 428ms/step - loss: 0.4521 - accuracy: 0.7900 - val_loss: 0.2905 - val_accuracy: 0.9000\n",
      "Epoch 2/10\n",
      "25/25 [==============================] - 5s 216ms/step - loss: 0.1830 - accuracy: 0.9550 - val_loss: 0.2715 - val_accuracy: 0.9100\n",
      "Epoch 3/10\n",
      "25/25 [==============================] - 6s 235ms/step - loss: 0.1418 - accuracy: 0.9575 - val_loss: 0.2051 - val_accuracy: 0.9200\n",
      "Epoch 4/10\n",
      "25/25 [==============================] - 6s 240ms/step - loss: 0.1136 - accuracy: 0.9675 - val_loss: 0.2579 - val_accuracy: 0.9100\n",
      "Epoch 5/10\n",
      "25/25 [==============================] - 6s 238ms/step - loss: 0.1210 - accuracy: 0.9600 - val_loss: 0.2683 - val_accuracy: 0.9400\n",
      "Epoch 6/10\n",
      "25/25 [==============================] - 6s 230ms/step - loss: 0.2223 - accuracy: 0.9300 - val_loss: 0.2494 - val_accuracy: 0.9100\n",
      "Epoch 7/10\n",
      "25/25 [==============================] - 6s 229ms/step - loss: 0.1264 - accuracy: 0.9575 - val_loss: 0.2862 - val_accuracy: 0.9500\n",
      "Epoch 8/10\n",
      "25/25 [==============================] - 6s 231ms/step - loss: 0.1156 - accuracy: 0.9650 - val_loss: 0.2534 - val_accuracy: 0.9100\n",
      "Epoch 9/10\n",
      "25/25 [==============================] - 6s 227ms/step - loss: 0.0989 - accuracy: 0.9700 - val_loss: 0.1688 - val_accuracy: 0.9500\n",
      "Epoch 10/10\n",
      "25/25 [==============================] - 6s 227ms/step - loss: 0.0744 - accuracy: 0.9775 - val_loss: 0.2332 - val_accuracy: 0.9500\n"
     ]
    },
    {
     "data": {
      "text/plain": [
       "<matplotlib.legend.Legend at 0x273b8adecc8>"
      ]
     },
     "execution_count": 7,
     "metadata": {},
     "output_type": "execute_result"
    },
    {
     "data": {
      "image/png": "[encoded data removed]",
      "text/plain": [
       "<Figure size 432x288 with 1 Axes>"
      ]
     },
     "metadata": {},
     "output_type": "display_data"
    }
   ],
   "source": [
    "\n",
    "train_datagen = ImageDataGenerator(rescale=1.0/255,shear_range=0.2,zoom_range=0.2,horizontal_flip=True)\n",
    "\n",
    "test_datagen = ImageDataGenerator(rescale=1.0/255)\n",
    "train=r'D:\\FaceMaskDetector-master\\train'\n",
    "test=r'D:\\FaceMaskDetector-master\\test'\n",
    "\n",
    "train_set = train_datagen.flow_from_directory(\n",
    "        train,\n",
    "        target_size=(150, 150),\n",
    "        batch_size=16,\n",
    "        class_mode='binary')\n",
    "\n",
    "test_set = test_datagen.flow_from_directory(\n",
    "        test,\n",
    "        target_size=(150,150),\n",
    "        batch_size=16,\n",
    "        class_mode='binary')\n",
    "\n",
    "model_saved=model.fit_generator(\n",
    "        train_set,\n",
    "        epochs=10,\n",
    "        validation_data=test_set\n",
    "        )\n",
    "\n",
    "model.save('FaceMask_model.h5', model_saved)\n",
    "\n",
    "N = 10\n",
    "plt.style.use(\"ggplot\")\n",
    "plt.figure()\n",
    "plt.plot(np.arange(0, N), model_saved.history[\"loss\"], label=\"train_loss\")\n",
    "plt.plot(np.arange(0, N), model_saved.history[\"val_loss\"], label=\"val_loss\")\n",
    "plt.plot(np.arange(0, N), model_saved.history[\"accuracy\"], label=\"train_acc\")\n",
    "plt.plot(np.arange(0, N), model_saved.history[\"val_accuracy\"], label=\"val_acc\")\n",
    "plt.title(\"Training Loss and Accuracy\")\n",
    "plt.xlabel(\"Epochs\")\n",
    "plt.ylabel(\"Loss or Accuracy\")\n",
    "plt.legend(loc=\"upper right\")\n",
    "\n"
   ]
  },
  {
   "cell_type": "code",
   "execution_count": null,
   "id": "increasing-sleep",
   "metadata": {},
   "outputs": [],
   "source": []
  },
  {
   "cell_type": "code",
   "execution_count": null,
   "id": "infinite-leadership",
   "metadata": {},
   "outputs": [],
   "source": [
    "\n"
   ]
  },
  {
   "cell_type": "code",
   "execution_count": null,
   "id": "fatal-thinking",
   "metadata": {},
   "outputs": [],
   "source": []
  },
  {
   "cell_type": "code",
   "execution_count": null,
   "id": "liable-australia",
   "metadata": {},
   "outputs": [],
   "source": []
  },
  {
   "cell_type": "code",
   "execution_count": null,
   "id": "surprised-agreement",
   "metadata": {},
   "outputs": [],
   "source": []
  }
 ],
 "metadata": {
  "kernelspec": {
   "display_name": "Python 3",
   "language": "python",
   "name": "python3"
  },
  "language_info": {
   "codemirror_mode": {
    "name": "ipython",
    "version": 3
   },
   "file_extension": ".py",
   "mimetype": "text/x-python",
   "name": "python",
   "nbconvert_exporter": "python",
   "pygments_lexer": "ipython3",
   "version": "3.7.10"
  }
 },
 "nbformat": 4,
 "nbformat_minor": 5
}
